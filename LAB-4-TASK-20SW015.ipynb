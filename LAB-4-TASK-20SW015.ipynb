{
  "nbformat": 4,
  "nbformat_minor": 0,
  "metadata": {
    "colab": {
      "provenance": []
    },
    "kernelspec": {
      "name": "python3",
      "display_name": "Python 3"
    },
    "language_info": {
      "name": "python"
    }
  },
  "cells": [
    {
      "cell_type": "code",
      "execution_count": 1,
      "metadata": {
        "colab": {
          "base_uri": "https://localhost:8080/"
        },
        "id": "RwBqPvcahJvG",
        "outputId": "da0d59e0-5b7e-4d65-d5e5-722842ee8dc4"
      },
      "outputs": [
        {
          "output_type": "stream",
          "name": "stdout",
          "text": [
            "[[ 2  4  6  8]\n",
            " [10 12 14 16]\n",
            " [18 20 22 24]\n",
            " [26 28 30 32]]\n"
          ]
        }
      ],
      "source": [
        "#TASK-1 LAB-4\n",
        "\n",
        "import numpy as np\n",
        "\n",
        "X = np.arange(2, 33, 2).reshape(4, 4)\n",
        "print(X)\n"
      ]
    },
    {
      "cell_type": "code",
      "source": [
        "#TASK-2 LAB-4\n",
        "\n",
        "import numpy as np\n",
        "\n",
        "X = np.arange(1, 26).reshape(5, 5)\n",
        "\n",
        "Y = X[X % 2 != 0]\n",
        "\n",
        "print(\"Original Array:\")\n",
        "print(X)\n",
        "print(\"\\nArray with Odd Numbers:\")\n",
        "print(Y)\n"
      ],
      "metadata": {
        "colab": {
          "base_uri": "https://localhost:8080/"
        },
        "id": "nHsWRmKEhUie",
        "outputId": "bbb63625-c9a7-4301-c196-6bbd1d7b0c39"
      },
      "execution_count": 2,
      "outputs": [
        {
          "output_type": "stream",
          "name": "stdout",
          "text": [
            "Original Array:\n",
            "[[ 1  2  3  4  5]\n",
            " [ 6  7  8  9 10]\n",
            " [11 12 13 14 15]\n",
            " [16 17 18 19 20]\n",
            " [21 22 23 24 25]]\n",
            "\n",
            "Array with Odd Numbers:\n",
            "[ 1  3  5  7  9 11 13 15 17 19 21 23 25]\n"
          ]
        }
      ]
    },
    {
      "cell_type": "code",
      "source": [
        "#TASK-3 LAB-4\n",
        "\n",
        "import numpy as np\n",
        "\n",
        "X = np.arange(1, 5).reshape(4, 1) * np.ones((1, 4))\n",
        "\n",
        "print(X)"
      ],
      "metadata": {
        "colab": {
          "base_uri": "https://localhost:8080/"
        },
        "id": "V5AJSmMXhfnK",
        "outputId": "2bdf3dde-f792-4cb6-f8e6-89b1ea0a3434"
      },
      "execution_count": 3,
      "outputs": [
        {
          "output_type": "stream",
          "name": "stdout",
          "text": [
            "[[1. 1. 1. 1.]\n",
            " [2. 2. 2. 2.]\n",
            " [3. 3. 3. 3.]\n",
            " [4. 4. 4. 4.]]\n"
          ]
        }
      ]
    },
    {
      "cell_type": "code",
      "source": [
        "#TASK-4 LAB-4\n",
        "\n",
        "from google.colab import drive\n",
        "drive.mount('/NumPy.ipynb')\n",
        "\n",
        "import numpy as np\n",
        "\n",
        "# Create a 1000x20 ndarray with random integers in the range [0, 5001)\n",
        "X = np.random.randint(0, 5001, size=(1000, 20))\n",
        "# Print the shape of X\n",
        "print(X.shape)\n",
        "\n",
        "# Calculate the average of the values in each column of X\n",
        "ave_cols = np.mean(X, axis=0)\n",
        "\n",
        "# Calculate the standard deviation of the values in each column of X\n",
        "std_cols = np.std(X, axis=0)\n",
        "\n",
        "\n",
        "print(\"Shape of ave_cols:\", ave_cols.shape)\n",
        "print(\"Shape of std_cols:\", std_cols.shape)\n",
        "\n",
        "# Mean normalize X\n",
        "X_norm = (X - ave_cols) / std_cols\n",
        "\n",
        "print(\"Mean normalized X:\")\n",
        "print(X_norm)\n",
        "\n",
        "# Print the average of all the values of X_norm\n",
        "ave_all_values = np.mean(X_norm)\n",
        "print(\"Average of all values in X_norm:\", ave_all_values)\n",
        "\n",
        "# Print the average of the minimum value in each column of X_norm\n",
        "ave_min_values = np.mean(np.min(X_norm, axis=0))\n",
        "print(\"Average of minimum values in each column of X_norm:\", ave_min_values)\n",
        "\n",
        "# Print the average of the maximum value in each column of X_norm\n",
        "ave_max_values = np.mean(np.max(X_norm, axis=0))\n",
        "print(\"Average of maximum values in each column of X_norm:\", ave_max_values)\n",
        "\n",
        "# We create a random permutation of integers 0 to 4\n",
        "np.random.permutation(5)\n",
        "\n",
        "# Create a random permutation of row indices of X_norm\n",
        "row_indices = np.random.permutation(X_norm.shape[0])\n",
        "\n",
        "print(\"Random permutation of row indices:\", row_indices)\n",
        "\n",
        "# Define the ratios for training, cross-validation, and test sets\n",
        "train_ratio = 0.6\n",
        "cross_val_ratio = 0.2\n",
        "test_ratio = 0.2\n",
        "\n",
        "# Calculate the sizes of each set based on the ratios\n",
        "num_rows = X_norm.shape[0]\n",
        "num_train = int(train_ratio * num_rows)\n",
        "num_cross_val = int(cross_val_ratio * num_rows)\n",
        "num_test = int(test_ratio * num_rows)\n",
        "\n",
        "# Use row_indices to split the data into sets\n",
        "X_train = X_norm[row_indices[:num_train]]\n",
        "X_crossVal = X_norm[row_indices[num_train:num_train + num_cross_val]]\n",
        "X_test = X_norm[row_indices[num_train + num_cross_val:]]\n",
        "\n",
        "print(\"X_train shape:\", X_train.shape)\n",
        "print(\"X_crossVal shape:\", X_crossVal.shape)\n",
        "print(\"X_test shape:\", X_test.shape)"
      ],
      "metadata": {
        "colab": {
          "base_uri": "https://localhost:8080/"
        },
        "id": "WOYrvmc7hr0u",
        "outputId": "30d851f4-57b5-476a-8047-9ca3b47d7670"
      },
      "execution_count": 4,
      "outputs": [
        {
          "output_type": "stream",
          "name": "stdout",
          "text": [
            "Mounted at /NumPy.ipynb\n",
            "(1000, 20)\n",
            "Shape of ave_cols: (20,)\n",
            "Shape of std_cols: (20,)\n",
            "Mean normalized X:\n",
            "[[ 1.26396975 -0.29205464 -1.23461279 ... -1.77758203 -0.61258206\n",
            "  -0.0114063 ]\n",
            " [-1.31548634  1.25921619  0.91273047 ... -1.18982207 -0.5793061\n",
            "  -0.71463319]\n",
            " [-0.11059982 -0.92078163 -0.22752544 ...  0.91596025 -1.36961022\n",
            "  -1.26731591]\n",
            " ...\n",
            " [-0.77564792 -0.48450811  1.50297243 ...  0.12369987  0.42382554\n",
            "   1.59164855]\n",
            " [ 0.18497711  1.62631604  0.0235528  ... -0.31318739  1.56907328\n",
            "   1.39917198]\n",
            " [ 0.82539379  1.56810058 -1.27276003 ... -1.51301854 -0.77133613\n",
            "  -1.25562983]]\n",
            "Average of all values in X_norm: 1.2789769243681803e-17\n",
            "Average of minimum values in each column of X_norm: -1.733960276080304\n",
            "Average of maximum values in each column of X_norm: 1.721249842174832\n",
            "Random permutation of row indices: [753 353  85  50 794 714 377 887 118 112 690 507 423 789 294 124 436 239\n",
            "  96 991 370  94 723 649 702 469 684  83 825 242 854 201 868 826 301 678\n",
            " 120 901 332 472 487 388 283 267 271 842 987 222 391 458 488 173 676 256\n",
            " 515 287 636 819  67 121 859 873  46 871 303 573 364  58 420 168 134 833\n",
            " 101 927 709 164  97 531 471 422 653 259 345  48 815 216 407 137 552 725\n",
            " 602 822 909 864 693 230 252 810 930 441 176 383 972  19  90 153 933 555\n",
            "   8  25 389 258 952 491 824 687 974 310 911 774 128 152 785 732  44  52\n",
            " 381 953 111 165  20  11 518 158 212 950 641 710 231 630 424 554 979 308\n",
            " 752 644 808 540 629 932 356 163 160  26 622 108 548 180 776 706 875 696\n",
            " 559  55 640 343 769  75 856 957  66 917 583  29 590 528 699 369 430  27\n",
            " 747 235 619 393 249 739 812 402 711 302 400 670 954 574 885 914 450 913\n",
            " 317 109 245 545 568 119 697 922 105 276 764 123 182 527 553 445 372 415\n",
            " 225 692  77  63 820 811 964 435 977 780 895 986  16 845 145 207 883 460\n",
            " 606 104 943 857 374 581 126 416 829  79  69 466 508 196 662 648 297 476\n",
            " 357  95 309 638 844 401 551  42 331 691 855  12 253 270 116 106 184 627\n",
            " 371 867 175 102 490 610 703 796 247  71 236  76 719 337 427 519 464 107\n",
            " 543 425  10 244 730 199 621 449 745 278 681 437 663 877 358 576  65 996\n",
            " 348 673 440 587  62 821 738 125  39 915 643 956 536 757 557 350 936 142\n",
            "  49 313 865 916 288 584 241 115 513 326 478 215  32 339 685 727 336 342\n",
            " 405  88 534 429 232 749 155 386  54 366 601 593 767 637 542 269 680 882\n",
            " 387  91 613 705 428 990 994  61 157 146 958 452 892 516 675 523 265 131\n",
            " 474 586 766 221 181 597 432 951 976  89 220 728 539 846 264 448 564  33\n",
            " 166 968 827  84 836  80 447 967 831 248   4 959 443  78 674 668 468 642\n",
            " 792 616 328  72 561 148 804 816 633  23 735 839 763 475 840  92 848 538\n",
            " 530 713 931 136 195 431 628 591 209 451 639 286 740 373 509 404 304 489\n",
            " 582 661 187 569 896 192 572 162 495 760 462 360 862 835 657 898   1 742\n",
            " 830  38  40 904 279 179 251 890 881 500 910 314 920 850  13 962 975 273\n",
            " 683  87 655  45 368 394 921 161 497 127 973 183  21 502 243   2 594 344\n",
            " 130 784 333 900 169 863 347 361 585 937 938 666 411 315 307 664 755 390\n",
            " 434 346 129 579 501  34 480 143 535 453 934 614 224 444 282 998  86 600\n",
            " 669  36 470 748 795 983 695 800 667 925 511 940 541 623 935 689 233 758\n",
            " 981 277 154 969 605 599 929 413 228 571 292 255 141 722 575 433 803 132\n",
            " 761 756 878 861 949 206 828 321 257 167 229 461 334 341 704 140 113 849\n",
            " 985  28 980 908 773 335 565 592 818 238 566 941 380 982 577 646 525  70\n",
            " 354 799 318 446 682 607 897 942 718 978  43 338 777 731 399 609 375 652\n",
            " 378 505 672 190 186 781 615 455 658 537 783  68 984 813 214   9 147 688\n",
            " 858 870 617  64 240 205 993 419 805 970 737 512 250 807 611 456 295 385\n",
            " 135  31 647 417 355  14 103 261  30 624  37 659 208 260 872  35 100 479\n",
            " 327 211 485 421 170 217 567 266   0 726 791 588 367 200 786 782 226 905\n",
            " 945 671 414 442 997 494 946  18 651 838 988 595 608 117 408  93 746 349\n",
            " 281 853 686 363  82 677 280 324 188 351 138 793 823 837 174 851 948  41\n",
            " 398 263  73 971 960 202 473 841 558  74 499 879 150 482 869 171 743 392\n",
            " 510 999 961 486 496 926 284 660 546 409 246 514 834 891 817 395 765 578\n",
            " 340 289 843 254 477 311 274 213 906   6 708 645 928  59 612 679 744 635\n",
            " 665 788 316 847 110 866 296 223 323 768 729 504 589 912 151 733  47 903\n",
            " 312 724 966 178 544  57 463 899  56 717 654 806 701 787 992 268 198 397\n",
            " 632 556  24   5 365 300 133 570 734 721 204 503 412 620 330 189 293 237\n",
            " 319 532 989 775 457 832 484 631 876 874 750  22 526 285 290 886   7 185\n",
            " 426  17 352 907 762  53 802 894 467 454 322 852 492 751 778 459 227 203\n",
            " 493 798 305 219 939 234 801 902 382   3 944 563 884 707 759 197 359 656\n",
            " 529 376 498 770 262 177 403 396 860 889 172 517 603 919 139 772 298 625\n",
            "  98 275 598 918 550 506 481 114 191 418 521 924 995 923 797  15 720 947\n",
            " 715  81 955 741 698  60 379 779 634 771 562 306 210 580 893 438 520 362\n",
            " 524 218 809 159 716 650 604 880 596 533 790 384 406 410 144 439 700 483\n",
            " 814 522 963 122 291 329 325 465 560  99 320 712  51 888 193 149 194 299\n",
            " 547 549 272 626 156 754 618 965 736 694]\n",
            "X_train shape: (600, 20)\n",
            "X_crossVal shape: (200, 20)\n",
            "X_test shape: (200, 20)\n"
          ]
        }
      ]
    }
  ]
}