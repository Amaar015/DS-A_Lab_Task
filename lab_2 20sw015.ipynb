{
  "nbformat": 4,
  "nbformat_minor": 0,
  "metadata": {
    "colab": {
      "provenance": []
    },
    "kernelspec": {
      "name": "python3",
      "display_name": "Python 3"
    },
    "language_info": {
      "name": "python"
    }
  },
  "cells": [
    {
      "cell_type": "code",
      "execution_count": 32,
      "metadata": {
        "colab": {
          "base_uri": "https://localhost:8080/"
        },
        "id": "b9VOnlIjmOtB",
        "outputId": "65a5b94b-f0e6-49b4-fc80-7c32cf566d0f"
      },
      "outputs": [
        {
          "output_type": "stream",
          "name": "stdout",
          "text": [
            "enter the your points:189\n",
            "Sorry! you win a pengium\n"
          ]
        }
      ],
      "source": [
        "#task 1\n",
        "\n",
        "point=int(input(\"enter the your points:\"))\n",
        "# print(point.type)\n",
        "\n",
        "if point>=1 and point<=50:\n",
        "  print(\"Congrats! you win wooden rabit\");\n",
        "elif point>=51 and point<=150:\n",
        "  print('Sorry! you win a no Price')\n",
        "elif point>=151 and point<=180:\n",
        "  print('Sorry! you win a wafer-thin mint')\n",
        "elif point>=181 and point<=200:\n",
        "  print('Sorry! you win a pengium')\n",
        "\n",
        "\n",
        "\n"
      ]
    },
    {
      "cell_type": "code",
      "source": [
        "\n",
        "#task 3\n",
        "\n",
        "guess=int(input(\"guess number:\"))\n",
        "# print(point.type)\n",
        "answer=50\n",
        "if answer==guess:\n",
        "  print(\"Nice! your answer matched\");\n",
        "elif answer>guess:\n",
        "  print('Oops! you choose a low number')\n",
        "elif answer<guess:\n",
        "  print('Oops! you choose a to high number')\n",
        "\n",
        "\n"
      ],
      "metadata": {
        "colab": {
          "base_uri": "https://localhost:8080/"
        },
        "id": "N83XKt_Vzqr7",
        "outputId": "ed3aef96-3666-4a92-c39a-d836a9aed29c"
      },
      "execution_count": 36,
      "outputs": [
        {
          "output_type": "stream",
          "name": "stdout",
          "text": [
            "guess number:50\n",
            "Nice! your answer matched\n"
          ]
        }
      ]
    },
    {
      "cell_type": "code",
      "source": [
        "#task 3\n",
        "\n",
        "def calculate_tax(purchase_amount, state):\n",
        "    tax_rates = {\n",
        "        'CA': 0.075,\n",
        "        'MN': 0.095,\n",
        "        'NY': 0.089\n",
        "    }\n",
        "\n",
        "    if state in tax_rates:\n",
        "        tax_amount = purchase_amount * tax_rates[state]\n",
        "        total_amount = purchase_amount + tax_amount\n",
        "        return total_amount\n",
        "    else:\n",
        "        print(\"State not found in the tax_rates \")\n",
        "        return purchase_amount\n",
        "\n",
        "purchase_amount =int(input('Enter your purchased amount'))\n",
        "state = 'CA'\n",
        "total_amount = calculate_tax(purchase_amount, state)\n",
        "print(\"Total amount including tax:\", total_amount)"
      ],
      "metadata": {
        "colab": {
          "base_uri": "https://localhost:8080/"
        },
        "id": "samTsJ5I1lrW",
        "outputId": "ed162a71-572c-4f51-abb4-a38672cd87dd"
      },
      "execution_count": 38,
      "outputs": [
        {
          "output_type": "stream",
          "name": "stdout",
          "text": [
            "Enter your purchased amount45\n",
            "Total amount including tax: 48.375\n"
          ]
        }
      ]
    },
    {
      "cell_type": "code",
      "source": [
        "#task 4\n",
        "\n",
        "\n",
        "sentence = [\"the\", \"quick\", \"brown\", \"fox\", \"jumped\", \"over\", \"the\",\n",
        "\"lazy\", \"dog\"]\n",
        "for i in sentence:\n",
        "  print(i)"
      ],
      "metadata": {
        "colab": {
          "base_uri": "https://localhost:8080/"
        },
        "id": "QGc986Pk3VTS",
        "outputId": "c21da175-7838-49ce-e101-bbd26d394465"
      },
      "execution_count": 40,
      "outputs": [
        {
          "output_type": "stream",
          "name": "stdout",
          "text": [
            "the\n",
            "quick\n",
            "brown\n",
            "fox\n",
            "jumped\n",
            "over\n",
            "the\n",
            "lazy\n",
            "dog\n"
          ]
        }
      ]
    },
    {
      "cell_type": "code",
      "source": [
        "#task 5\n",
        "\n",
        "l=[i for i in range(1,30) if i % 5==0]\n",
        "print(l)"
      ],
      "metadata": {
        "colab": {
          "base_uri": "https://localhost:8080/"
        },
        "id": "NLcI22Xs3-Sv",
        "outputId": "d8e38d6e-35e4-4137-cd60-3b299332674d"
      },
      "execution_count": 43,
      "outputs": [
        {
          "output_type": "stream",
          "name": "stdout",
          "text": [
            "[5, 10, 15, 20, 25]\n"
          ]
        }
      ]
    },
    {
      "cell_type": "code",
      "source": [
        "#task 6\n",
        "\n",
        "names = [\"Rick Sanchez\", \"Morty Smith\", \"Summer Smith\", \"Jerry ,Smith\", \"Beth Smith\"]\n",
        "\n",
        "first_name=names[0]\n",
        "\n",
        "print(first_name)"
      ],
      "metadata": {
        "colab": {
          "base_uri": "https://localhost:8080/"
        },
        "id": "7Rabf2Fz5LYi",
        "outputId": "496f5144-e89e-4aa0-ba45-4df2011b5791"
      },
      "execution_count": 45,
      "outputs": [
        {
          "output_type": "stream",
          "name": "stdout",
          "text": [
            "Rick Sanchez\n"
          ]
        }
      ]
    },
    {
      "cell_type": "code",
      "source": [
        "#task 7\n",
        "\n",
        "\n",
        "multiples_3=[x for x in range(1,20)  if x%3==0]\n",
        "print(multiples_3)"
      ],
      "metadata": {
        "colab": {
          "base_uri": "https://localhost:8080/"
        },
        "id": "erARjk856flV",
        "outputId": "ec89e474-1fe0-4723-b4c3-5af810022019"
      },
      "execution_count": 48,
      "outputs": [
        {
          "output_type": "stream",
          "name": "stdout",
          "text": [
            "[3, 6, 9, 12, 15, 18]\n"
          ]
        }
      ]
    },
    {
      "cell_type": "code",
      "source": [
        "#task 8\n",
        "scores = {\n",
        " \"Rick Sanchez\": 70,\n",
        " \"Morty Smith\": 35,\n",
        " \"Summer Smith\": 82,\n",
        " \"Jerry Smith\": 23,\n",
        " \"Beth Smith\": 98\n",
        " }\n",
        "\n",
        "passed = {key: val for key, val in scores.items() if val>=65}\n",
        "\n",
        "print(passed)\n",
        ""
      ],
      "metadata": {
        "colab": {
          "base_uri": "https://localhost:8080/"
        },
        "id": "dzaa6YpJ71N2",
        "outputId": "02edffe2-be4e-42e7-b746-f7b8f076ba42"
      },
      "execution_count": 49,
      "outputs": [
        {
          "output_type": "stream",
          "name": "stdout",
          "text": [
            "{'Rick Sanchez': 70, 'Summer Smith': 82, 'Beth Smith': 98}\n"
          ]
        }
      ]
    },
    {
      "cell_type": "code",
      "source": [
        "#task 9\n",
        "\n",
        "cast_names = [\"Barney\", \"Robin\", \"Ted\", \"Lily\", \"Marshall\"]\n",
        "cast_heights = [72, 68, 72, 66, 76]\n",
        "\n",
        "\n",
        "for cast_names, cast_heights in zip(cast_names,cast_heights):\n",
        "    print(\"{}:{}\".format(cast_names,cast_heights))"
      ],
      "metadata": {
        "colab": {
          "base_uri": "https://localhost:8080/"
        },
        "id": "ug-r2-YRAK9u",
        "outputId": "72c006b4-3777-4394-d9cb-10ed54822ef0"
      },
      "execution_count": 50,
      "outputs": [
        {
          "output_type": "stream",
          "name": "stdout",
          "text": [
            "Barney:72\n",
            "Robin:68\n",
            "Ted:72\n",
            "Lily:66\n",
            "Marshall:76\n"
          ]
        }
      ]
    },
    {
      "cell_type": "code",
      "source": [
        "#task 10\n",
        "\n",
        "cast = [\"Barney Stinson\", \"Robin Scherbatsky\", \"Ted Mosby\",\n",
        "\"Lily Aldrin\", \"Marshall Eriksen\"]\n",
        "heights = [72, 68, 72, 66, 76]\n",
        "\n",
        "for i,name in enumerate(cast):\n",
        "  cast[i] =name + str(heights[i])\n",
        "print(cast)"
      ],
      "metadata": {
        "colab": {
          "base_uri": "https://localhost:8080/"
        },
        "id": "0JydJ3RZBXwo",
        "outputId": "8d466547-180e-46bd-8608-36836bce9ed1"
      },
      "execution_count": 59,
      "outputs": [
        {
          "output_type": "stream",
          "name": "stdout",
          "text": [
            "['Barney Stinson72', 'Robin Scherbatsky68', 'Ted Mosby72', 'Lily Aldrin66', 'Marshall Eriksen76']\n"
          ]
        }
      ]
    }
  ]
}