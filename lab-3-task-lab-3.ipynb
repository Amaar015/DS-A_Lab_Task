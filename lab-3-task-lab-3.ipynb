{
  "nbformat": 4,
  "nbformat_minor": 0,
  "metadata": {
    "colab": {
      "provenance": []
    },
    "kernelspec": {
      "name": "python3",
      "display_name": "Python 3"
    },
    "language_info": {
      "name": "python"
    }
  },
  "cells": [
    {
      "cell_type": "code",
      "execution_count": 1,
      "metadata": {
        "colab": {
          "base_uri": "https://localhost:8080/"
        },
        "id": "LbZCKvLEcEwt",
        "outputId": "25f54f5c-be08-4a4d-b37e-ecf277a8c0d8"
      },
      "outputs": [
        {
          "output_type": "stream",
          "name": "stdout",
          "text": [
            "Enter the Population:40\n",
            "Enter the Land_Area:100\n",
            "POpulation_Density: 0.4\n"
          ]
        }
      ],
      "source": [
        "#TASK 1 LAB-3\n",
        "\n",
        "population=int(input(\"Enter the Population:\"));\n",
        "land_area=int(input(\"Enter the Land_Area:\"));\n",
        "\n",
        "def  population_density(population,land_area):\n",
        "  return print(\"POpulation_Density:\",population/land_area);\n",
        "\n",
        "\n",
        "population_density(population,land_area);"
      ]
    },
    {
      "cell_type": "code",
      "source": [
        " #task no-2 lab-3\n",
        "\n",
        "\n",
        "def readable_timedelta(days):\n",
        "\n",
        "  weeks=days//7;\n",
        "  remaining_days=days%7;\n",
        "  return print(weeks,\" weeks\", remaining_days,\"days\");\n",
        "readable_timedelta(10);"
      ],
      "metadata": {
        "colab": {
          "base_uri": "https://localhost:8080/"
        },
        "id": "mdO1q7X5eBwR",
        "outputId": "41ea7d86-eb4b-4cd9-a7aa-b3583d8450d8"
      },
      "execution_count": 2,
      "outputs": [
        {
          "output_type": "stream",
          "name": "stdout",
          "text": [
            "1  weeks 3 days\n"
          ]
        }
      ]
    },
    {
      "cell_type": "code",
      "source": [
        " #task no-3 lab-3\n",
        "\n",
        "numbers = [\n",
        "    [34, 63, 88, 71, 29],\n",
        "    [90, 78, 51, 27, 45],\n",
        "    [63, 37, 85, 46, 22],\n",
        "    [51, 22, 34, 11, 18]\n",
        "]\n",
        "\n",
        "averages = list(map(lambda numbers3: sum(numbers3) / len(numbers3), numbers))\n",
        "print(averages)\n",
        "\n"
      ],
      "metadata": {
        "colab": {
          "base_uri": "https://localhost:8080/"
        },
        "id": "C6bnBrQFePKb",
        "outputId": "559ffe8d-74e5-4904-d86d-47daa4fe2a50"
      },
      "execution_count": 3,
      "outputs": [
        {
          "output_type": "stream",
          "name": "stdout",
          "text": [
            "[57.0, 58.2, 50.6, 27.2]\n"
          ]
        }
      ]
    },
    {
      "cell_type": "code",
      "source": [
        " #task no-4 lab-3\n",
        "cities = [\"New York City\", \"Los Angeles\", \"Chicago\", \"Mountain View\", \"Denver\", \"Boston\"]\n",
        "\n",
        "short_cities = list(filter(lambda name: len(name) < 10, cities))\n",
        "print(short_cities)\n",
        "\n",
        ""
      ],
      "metadata": {
        "colab": {
          "base_uri": "https://localhost:8080/"
        },
        "id": "FID2rqXneYQi",
        "outputId": "36b8f8b6-4a49-4c0f-e093-fc3ec41066af"
      },
      "execution_count": 4,
      "outputs": [
        {
          "output_type": "stream",
          "name": "stdout",
          "text": [
            "['Chicago', 'Denver', 'Boston']\n"
          ]
        }
      ]
    },
    {
      "cell_type": "code",
      "source": [
        "#task no-5 lab-3\n",
        "names_input = input(\"Enter a list of names separated by spaces: \")\n",
        "names = names_input.split()\n",
        "\n",
        "assignments_input = input(\"Enter a list of the number of assignments separated by spaces: \")\n",
        "assignments = list(map(int, assignments_input.split()))\n",
        "\n",
        "grades_input = input(\"Enter a list of grades separated by spaces: \")\n",
        "grades = list(map(float, grades_input.split()))\n",
        "\n",
        "message = \"Hi {},\\n\\nThis is a reminder that you have {} assignments left to submit before you can graduate. Your current grade is {} and can increase to {} if you submit all assignments before the due date.\\n\\n\"\n",
        "\n",
        "# Write a for loop that iterates through each set of names, assignments, and grades to print each student's message\n",
        "for name, assignment_count, grade in zip(names, assignments, grades):\n",
        "    potential_grade = grade + 2 * assignment_count\n",
        "    print(message.format(name, assignment_count, grade, potential_grade))\n"
      ],
      "metadata": {
        "colab": {
          "base_uri": "https://localhost:8080/"
        },
        "id": "7_GaxrXHef0P",
        "outputId": "2d86c501-055b-4630-8af7-78a410e2cf3b"
      },
      "execution_count": 5,
      "outputs": [
        {
          "output_type": "stream",
          "name": "stdout",
          "text": [
            "Enter a list of names separated by spaces: k a k\n",
            "Enter a list of the number of assignments separated by spaces: 4 0 4\n",
            "Enter a list of grades separated by spaces: 8 5 8\n",
            "Hi k,\n",
            "\n",
            "This is a reminder that you have 4 assignments left to submit before you can graduate. Your current grade is 8.0 and can increase to 16.0 if you submit all assignments before the due date.\n",
            "\n",
            "\n",
            "Hi a,\n",
            "\n",
            "This is a reminder that you have 0 assignments left to submit before you can graduate. Your current grade is 5.0 and can increase to 5.0 if you submit all assignments before the due date.\n",
            "\n",
            "\n",
            "Hi k,\n",
            "\n",
            "This is a reminder that you have 4 assignments left to submit before you can graduate. Your current grade is 8.0 and can increase to 16.0 if you submit all assignments before the due date.\n",
            "\n",
            "\n"
          ]
        }
      ]
    },
    {
      "cell_type": "code",
      "source": [
        "# task no-6\n",
        "\n",
        "file_content = \"\"\"We're the knights of the round table\n",
        "We dance whenever we're able\"\"\"\n",
        "with open(\"camelot.txt\", \"w\") as f:\n",
        "    f.write(file_content)\n",
        "\n",
        "with open(\"camelot.txt\", \"r\") as f:\n",
        "    first_10_chars = f.read(2)\n",
        "    print(\"First 2 characters:\")\n",
        "    print(first_10_chars)\n",
        "\n",
        "    next_15_chars = f.read(8)\n",
        "    print(\"\\nNext 8 characters:\")\n",
        "    print(next_15_chars)\n",
        "\n",
        "    rest_of_the_file = f.read()\n",
        "    print(\"\\nRest of the file:\")\n",
        "    print(rest_of_the_file)\n",
        ""
      ],
      "metadata": {
        "colab": {
          "base_uri": "https://localhost:8080/"
        },
        "id": "5_cMsZ9Re1to",
        "outputId": "87ed6aed-fb7e-4d5e-8371-4ba9ebaf00fc"
      },
      "execution_count": 6,
      "outputs": [
        {
          "output_type": "stream",
          "name": "stdout",
          "text": [
            "First 2 characters:\n",
            "We\n",
            "\n",
            "Next 8 characters:\n",
            "'re the \n",
            "\n",
            "Rest of the file:\n",
            "knights of the round table\n",
            "We dance whenever we're able\n"
          ]
        }
      ]
    },
    {
      "cell_type": "code",
      "source": [
        "#task no-7 lab-3\n",
        "def create_cast_list(filename):\n",
        "    cast_list = []\n",
        "    # Use 'with' to open the file\n",
        "    with open(filename, 'r') as file:\n",
        "        # Use the for loop syntax to process each line\n",
        "        for line in file:\n",
        "            # Split the line using the comma as the delimiter\n",
        "            data = line.strip().split(',')\n",
        "            # If there is a comma, append the data before the comma to cast_list\n",
        "            if len(data) > 0:\n",
        "                cast_list.append(data[0])\n",
        "\n",
        "    return cast_list\n",
        "\n",
        "cast_list = create_cast_list('/content/actors.txt')\n",
        "for actor in cast_list:\n",
        "    print(actor)\n",
        ""
      ],
      "metadata": {
        "colab": {
          "base_uri": "https://localhost:8080/"
        },
        "id": "fPr_03f0fL3v",
        "outputId": "7bac24df-4696-4c51-f8d7-e936c9469b3c"
      },
      "execution_count": 8,
      "outputs": [
        {
          "output_type": "stream",
          "name": "stdout",
          "text": [
            "Graham Chapman\n",
            "Eric Idle\n",
            "Terry Jones\n",
            "Michael Palin\n",
            "Terry Gilliam\n",
            "John Cleese\n",
            "Carol Cleveland\n",
            "Ian Davidson\n",
            "John Hughman\n",
            "The Fred Tomlinson Singers\n",
            "Connie Booth\n",
            "Bob Raymond\n",
            "Lyn Ashley\n",
            "Rita Davies\n",
            "Stanley Mason\n",
            "David Ballantyne\n",
            "Donna Reading\n",
            "Peter Brett\n",
            "Maureen Flanagan\n",
            "Katya Wyeth\n",
            "Frank Lester\n",
            "Neil Innes\n",
            "Dick Vosburgh\n",
            "Sandra Richards\n",
            "Julia Breck\n",
            "Nicki Howorth\n",
            "Jimmy Hill\n",
            "Barry Cryer\n",
            "Jeannette Wild\n",
            "Marjorie Wilde\n",
            "Marie Anderson\n",
            "Caron Gardner\n",
            "Nosher Powell\n",
            "Carolae Donoghue\n",
            "Vincent Wong\n",
            "Helena Clayton\n",
            "Nigel Jones\n",
            "Roy Gunson\n",
            "Daphne Davey\n",
            "Stenson Falke\n",
            "Alexander Curry\n",
            "Frank Williams\n",
            "Ralph Wood\n",
            "Rosalind Bailey\n",
            "Marion Mould\n",
            "Sheila Sands\n",
            "Richard Baker\n",
            "Douglas Adams\n",
            "Ewa Aulin\n",
            "Reginald Bosanquet\n",
            "Barbara Lindley\n",
            "Roy Brent\n",
            "Jonas Card\n",
            "Tony Christopher\n",
            "Beulah Hughes\n",
            "Peter Kodak\n",
            "Lulu\n",
            "Jay Neill\n",
            "Graham Skidmore\n",
            "Ringo Starr\n",
            "Fred Tomlinson\n",
            "David Hamilton\n",
            "Suzy Mandel\n",
            "Peter Woods\n"
          ]
        }
      ]
    }
  ]
}